{
 "cells": [
  {
   "cell_type": "markdown",
   "id": "573dd054",
   "metadata": {},
   "source": [
    "# LeNet"
   ]
  },
  {
   "cell_type": "code",
   "execution_count": 1,
   "id": "d9472ff1",
   "metadata": {},
   "outputs": [],
   "source": [
    "import warnings\n",
    "warnings.filterwarnings('ignore')"
   ]
  },
  {
   "cell_type": "code",
   "execution_count": 2,
   "id": "c174c1a6",
   "metadata": {},
   "outputs": [],
   "source": [
    "import pandas as pd\n",
    "import numpy as np\n",
    "from tensorflow.keras.layers import Convolution2D, MaxPool2D, MaxPooling2D, Dropout, Conv2D, Flatten, Dense, Activation\n",
    "from tensorflow.keras.models import Sequential\n",
    "from tensorflow.keras.preprocessing.image import ImageDataGenerator\n",
    "from PIL import Image\n",
    "from keras.callbacks import ModelCheckpoint\n",
    "import matplotlib.pyplot as plt\n",
    "import os\n",
    "import glob"
   ]
  },
  {
   "cell_type": "code",
   "execution_count": 3,
   "id": "3de16d1b",
   "metadata": {},
   "outputs": [
    {
     "name": "stdout",
     "output_type": "stream",
     "text": [
      "Found 992 images belonging to 2 classes.\n"
     ]
    }
   ],
   "source": [
    "train_datagen=ImageDataGenerator(rescale=1./255,shear_range=0.2,zoom_range=0.2,horizontal_flip=True)\n",
    "training_set=train_datagen.flow_from_directory('dataset/train',target_size=(256,256),batch_size=32,class_mode='categorical')"
   ]
  },
  {
   "cell_type": "code",
   "execution_count": 4,
   "id": "55ada6ed",
   "metadata": {},
   "outputs": [
    {
     "name": "stdout",
     "output_type": "stream",
     "text": [
      "Found 291 images belonging to 2 classes.\n"
     ]
    }
   ],
   "source": [
    "test_datagen=ImageDataGenerator(rescale=1./255)\n",
    "test_set=test_datagen.flow_from_directory('dataset/test',target_size=(256,256),batch_size=32,class_mode='categorical')"
   ]
  },
  {
   "cell_type": "code",
   "execution_count": 5,
   "id": "9d5a2282",
   "metadata": {},
   "outputs": [
    {
     "name": "stdout",
     "output_type": "stream",
     "text": [
      "Model: \"sequential\"\n",
      "_________________________________________________________________\n",
      " Layer (type)                Output Shape              Param #   \n",
      "=================================================================\n",
      " conv2d (Conv2D)             (None, 85, 85, 32)        896       \n",
      "                                                                 \n",
      " max_pooling2d (MaxPooling2D  (None, 42, 42, 32)       0         \n",
      " )                                                               \n",
      "                                                                 \n",
      " conv2d_1 (Conv2D)           (None, 14, 14, 32)        9248      \n",
      "                                                                 \n",
      " max_pooling2d_1 (MaxPooling  (None, 7, 7, 32)         0         \n",
      " 2D)                                                             \n",
      "                                                                 \n",
      " conv2d_2 (Conv2D)           (None, 2, 2, 128)         36992     \n",
      "                                                                 \n",
      " max_pooling2d_2 (MaxPooling  (None, 1, 1, 128)        0         \n",
      " 2D)                                                             \n",
      "                                                                 \n",
      " flatten (Flatten)           (None, 128)               0         \n",
      "                                                                 \n",
      " dense (Dense)               (None, 256)               33024     \n",
      "                                                                 \n",
      " dense_1 (Dense)             (None, 2)                 514       \n",
      "                                                                 \n",
      "=================================================================\n",
      "Total params: 80,674\n",
      "Trainable params: 80,674\n",
      "Non-trainable params: 0\n",
      "_________________________________________________________________\n"
     ]
    }
   ],
   "source": [
    "Classifier=Sequential()\n",
    "Classifier.add(Convolution2D(32,3,3,input_shape=(256,256,3),activation='relu'))\n",
    "Classifier.add(MaxPooling2D(pool_size=(2,2)))\n",
    "Classifier.add(Convolution2D(32,3,3, activation='relu'))\n",
    "Classifier.add(MaxPooling2D(pool_size=(2,2)))\n",
    "Classifier.add(Convolution2D(128,3,3,activation='relu'))\n",
    "Classifier.add(MaxPooling2D(pool_size=(2,2)))\n",
    "Classifier.add(Flatten())\n",
    "Classifier.add(Dense(256, activation='relu'))\n",
    "Classifier.add(Dense(2, activation='softmax'))\n",
    "\n",
    "Classifier.compile(optimizer='rmsprop',loss='categorical_crossentropy',metrics=['accuracy'])\n",
    "Classifier.summary()"
   ]
  },
  {
   "cell_type": "code",
   "execution_count": 6,
   "id": "ca5cf266",
   "metadata": {},
   "outputs": [],
   "source": [
    "model_path = \"LeNet.h5\"\n",
    "\n",
    "callbacks = [\n",
    "    ModelCheckpoint(model_path, monitor='accuracy', verbose=1, save_best_only=True)\n",
    "]"
   ]
  },
  {
   "cell_type": "code",
   "execution_count": 7,
   "id": "a3a9b68f",
   "metadata": {},
   "outputs": [],
   "source": [
    "epochs = 25\n",
    "batch_size = 32"
   ]
  },
  {
   "cell_type": "code",
   "execution_count": 8,
   "id": "605b5606",
   "metadata": {},
   "outputs": [
    {
     "name": "stdout",
     "output_type": "stream",
     "text": [
      "Epoch 1/25\n",
      "31/31 [==============================] - ETA: 0s - loss: 0.6249 - accuracy: 0.6583\n",
      "Epoch 1: accuracy improved from -inf to 0.65827, saving model to LeNet.h5\n",
      "31/31 [==============================] - 25s 738ms/step - loss: 0.6249 - accuracy: 0.6583 - val_loss: 0.5713 - val_accuracy: 0.7292\n",
      "Epoch 2/25\n",
      "31/31 [==============================] - ETA: 0s - loss: 0.4544 - accuracy: 0.7913\n",
      "Epoch 2: accuracy improved from 0.65827 to 0.79133, saving model to LeNet.h5\n",
      "31/31 [==============================] - 19s 599ms/step - loss: 0.4544 - accuracy: 0.7913 - val_loss: 0.5550 - val_accuracy: 0.7292\n",
      "Epoch 3/25\n",
      "31/31 [==============================] - ETA: 0s - loss: 0.4027 - accuracy: 0.8044\n",
      "Epoch 3: accuracy improved from 0.79133 to 0.80444, saving model to LeNet.h5\n",
      "31/31 [==============================] - 19s 604ms/step - loss: 0.4027 - accuracy: 0.8044 - val_loss: 0.5802 - val_accuracy: 0.6806\n",
      "Epoch 4/25\n",
      "31/31 [==============================] - ETA: 0s - loss: 0.3860 - accuracy: 0.8125\n",
      "Epoch 4: accuracy improved from 0.80444 to 0.81250, saving model to LeNet.h5\n",
      "31/31 [==============================] - 19s 629ms/step - loss: 0.3860 - accuracy: 0.8125 - val_loss: 0.4586 - val_accuracy: 0.7361\n",
      "Epoch 5/25\n",
      "31/31 [==============================] - ETA: 0s - loss: 0.3402 - accuracy: 0.8327\n",
      "Epoch 5: accuracy improved from 0.81250 to 0.83266, saving model to LeNet.h5\n",
      "31/31 [==============================] - 19s 603ms/step - loss: 0.3402 - accuracy: 0.8327 - val_loss: 0.4411 - val_accuracy: 0.7361\n",
      "Epoch 6/25\n",
      "31/31 [==============================] - ETA: 0s - loss: 0.3156 - accuracy: 0.8488\n",
      "Epoch 6: accuracy improved from 0.83266 to 0.84879, saving model to LeNet.h5\n",
      "31/31 [==============================] - 18s 596ms/step - loss: 0.3156 - accuracy: 0.8488 - val_loss: 0.3941 - val_accuracy: 0.7500\n",
      "Epoch 7/25\n",
      "31/31 [==============================] - ETA: 0s - loss: 0.3641 - accuracy: 0.8538\n",
      "Epoch 7: accuracy improved from 0.84879 to 0.85383, saving model to LeNet.h5\n",
      "31/31 [==============================] - 18s 586ms/step - loss: 0.3641 - accuracy: 0.8538 - val_loss: 0.4748 - val_accuracy: 0.7257\n",
      "Epoch 8/25\n",
      "31/31 [==============================] - ETA: 0s - loss: 0.2391 - accuracy: 0.9002\n",
      "Epoch 8: accuracy improved from 0.85383 to 0.90020, saving model to LeNet.h5\n",
      "31/31 [==============================] - 18s 570ms/step - loss: 0.2391 - accuracy: 0.9002 - val_loss: 0.4664 - val_accuracy: 0.7465\n",
      "Epoch 9/25\n",
      "31/31 [==============================] - ETA: 0s - loss: 0.2612 - accuracy: 0.8911\n",
      "Epoch 9: accuracy did not improve from 0.90020\n",
      "31/31 [==============================] - 18s 574ms/step - loss: 0.2612 - accuracy: 0.8911 - val_loss: 0.4579 - val_accuracy: 0.7500\n",
      "Epoch 10/25\n",
      "31/31 [==============================] - ETA: 0s - loss: 0.2597 - accuracy: 0.8891\n",
      "Epoch 10: accuracy did not improve from 0.90020\n",
      "31/31 [==============================] - 18s 572ms/step - loss: 0.2597 - accuracy: 0.8891 - val_loss: 0.3575 - val_accuracy: 0.7847\n",
      "Epoch 11/25\n",
      "31/31 [==============================] - ETA: 0s - loss: 0.3106 - accuracy: 0.8710\n",
      "Epoch 11: accuracy did not improve from 0.90020\n",
      "31/31 [==============================] - 18s 580ms/step - loss: 0.3106 - accuracy: 0.8710 - val_loss: 0.3297 - val_accuracy: 0.8889\n",
      "Epoch 12/25\n",
      "31/31 [==============================] - ETA: 0s - loss: 0.2296 - accuracy: 0.8921\n",
      "Epoch 12: accuracy did not improve from 0.90020\n",
      "31/31 [==============================] - 18s 570ms/step - loss: 0.2296 - accuracy: 0.8921 - val_loss: 0.3808 - val_accuracy: 0.7674\n",
      "Epoch 13/25\n",
      "31/31 [==============================] - ETA: 0s - loss: 0.2372 - accuracy: 0.9022\n",
      "Epoch 13: accuracy improved from 0.90020 to 0.90222, saving model to LeNet.h5\n",
      "31/31 [==============================] - 21s 671ms/step - loss: 0.2372 - accuracy: 0.9022 - val_loss: 0.3195 - val_accuracy: 0.8264\n",
      "Epoch 14/25\n",
      "31/31 [==============================] - ETA: 0s - loss: 0.2451 - accuracy: 0.8962\n",
      "Epoch 14: accuracy did not improve from 0.90222\n",
      "31/31 [==============================] - 19s 629ms/step - loss: 0.2451 - accuracy: 0.8962 - val_loss: 0.2873 - val_accuracy: 0.8715\n",
      "Epoch 15/25\n",
      "31/31 [==============================] - ETA: 0s - loss: 0.2389 - accuracy: 0.8982\n",
      "Epoch 15: accuracy did not improve from 0.90222\n",
      "31/31 [==============================] - 19s 617ms/step - loss: 0.2389 - accuracy: 0.8982 - val_loss: 0.3086 - val_accuracy: 0.8889\n",
      "Epoch 16/25\n",
      "31/31 [==============================] - ETA: 0s - loss: 0.2046 - accuracy: 0.9173\n",
      "Epoch 16: accuracy improved from 0.90222 to 0.91734, saving model to LeNet.h5\n",
      "31/31 [==============================] - 20s 653ms/step - loss: 0.2046 - accuracy: 0.9173 - val_loss: 0.5294 - val_accuracy: 0.7257\n",
      "Epoch 17/25\n",
      "31/31 [==============================] - ETA: 0s - loss: 0.2087 - accuracy: 0.9173\n",
      "Epoch 17: accuracy did not improve from 0.91734\n",
      "31/31 [==============================] - 19s 621ms/step - loss: 0.2087 - accuracy: 0.9173 - val_loss: 0.3070 - val_accuracy: 0.8785\n",
      "Epoch 18/25\n",
      "31/31 [==============================] - ETA: 0s - loss: 0.2569 - accuracy: 0.8851\n",
      "Epoch 18: accuracy did not improve from 0.91734\n",
      "31/31 [==============================] - 20s 636ms/step - loss: 0.2569 - accuracy: 0.8851 - val_loss: 0.2725 - val_accuracy: 0.8993\n",
      "Epoch 19/25\n",
      "31/31 [==============================] - ETA: 0s - loss: 0.1799 - accuracy: 0.9264\n",
      "Epoch 19: accuracy improved from 0.91734 to 0.92641, saving model to LeNet.h5\n",
      "31/31 [==============================] - 19s 625ms/step - loss: 0.1799 - accuracy: 0.9264 - val_loss: 0.3901 - val_accuracy: 0.8194\n",
      "Epoch 20/25\n",
      "31/31 [==============================] - ETA: 0s - loss: 0.2490 - accuracy: 0.8901\n",
      "Epoch 20: accuracy did not improve from 0.92641\n",
      "31/31 [==============================] - 19s 617ms/step - loss: 0.2490 - accuracy: 0.8901 - val_loss: 0.2916 - val_accuracy: 0.8993\n",
      "Epoch 21/25\n",
      "31/31 [==============================] - ETA: 0s - loss: 0.2021 - accuracy: 0.9194\n",
      "Epoch 21: accuracy did not improve from 0.92641\n",
      "31/31 [==============================] - 19s 610ms/step - loss: 0.2021 - accuracy: 0.9194 - val_loss: 0.3782 - val_accuracy: 0.7778\n",
      "Epoch 22/25\n",
      "31/31 [==============================] - ETA: 0s - loss: 0.2565 - accuracy: 0.9012\n",
      "Epoch 22: accuracy did not improve from 0.92641\n",
      "31/31 [==============================] - 19s 613ms/step - loss: 0.2565 - accuracy: 0.9012 - val_loss: 0.2775 - val_accuracy: 0.8785\n",
      "Epoch 23/25\n",
      "31/31 [==============================] - ETA: 0s - loss: 0.1802 - accuracy: 0.9315\n",
      "Epoch 23: accuracy improved from 0.92641 to 0.93145, saving model to LeNet.h5\n",
      "31/31 [==============================] - 19s 616ms/step - loss: 0.1802 - accuracy: 0.9315 - val_loss: 0.3119 - val_accuracy: 0.8715\n",
      "Epoch 24/25\n",
      "31/31 [==============================] - ETA: 0s - loss: 0.2093 - accuracy: 0.9083\n",
      "Epoch 24: accuracy did not improve from 0.93145\n",
      "31/31 [==============================] - 19s 617ms/step - loss: 0.2093 - accuracy: 0.9083 - val_loss: 0.2537 - val_accuracy: 0.8889\n",
      "Epoch 25/25\n",
      "31/31 [==============================] - ETA: 0s - loss: 0.1908 - accuracy: 0.9204\n",
      "Epoch 25: accuracy did not improve from 0.93145\n",
      "31/31 [==============================] - 19s 627ms/step - loss: 0.1908 - accuracy: 0.9204 - val_loss: 0.2125 - val_accuracy: 0.9236\n"
     ]
    }
   ],
   "source": [
    "#### Fitting the model\n",
    "history = Classifier.fit(\n",
    "           training_set, steps_per_epoch=training_set.samples // batch_size, \n",
    "           epochs=epochs, \n",
    "           validation_data=test_set,validation_steps=test_set.samples // batch_size,\n",
    "           callbacks=callbacks)"
   ]
  },
  {
   "cell_type": "code",
   "execution_count": 9,
   "id": "4d5fe7cb",
   "metadata": {},
   "outputs": [
    {
     "ename": "KeyError",
     "evalue": "'acc'",
     "output_type": "error",
     "traceback": [
      "\u001b[1;31m---------------------------------------------------------------------------\u001b[0m",
      "\u001b[1;31mKeyError\u001b[0m                                  Traceback (most recent call last)",
      "\u001b[1;32m~\\AppData\\Local\\Temp\\ipykernel_27560\\3374270555.py\u001b[0m in \u001b[0;36m<module>\u001b[1;34m\u001b[0m\n\u001b[0;32m      1\u001b[0m \u001b[0mplt\u001b[0m\u001b[1;33m.\u001b[0m\u001b[0mfigure\u001b[0m\u001b[1;33m(\u001b[0m\u001b[0mfigsize\u001b[0m\u001b[1;33m=\u001b[0m\u001b[1;33m(\u001b[0m\u001b[1;36m20\u001b[0m\u001b[1;33m,\u001b[0m \u001b[1;36m8\u001b[0m\u001b[1;33m)\u001b[0m\u001b[1;33m)\u001b[0m\u001b[1;33m\u001b[0m\u001b[1;33m\u001b[0m\u001b[0m\n\u001b[1;32m----> 2\u001b[1;33m \u001b[0mplt\u001b[0m\u001b[1;33m.\u001b[0m\u001b[0mplot\u001b[0m\u001b[1;33m(\u001b[0m\u001b[0mhistory\u001b[0m\u001b[1;33m.\u001b[0m\u001b[0mhistory\u001b[0m\u001b[1;33m[\u001b[0m\u001b[1;34m'acc'\u001b[0m\u001b[1;33m]\u001b[0m\u001b[1;33m)\u001b[0m\u001b[1;33m\u001b[0m\u001b[1;33m\u001b[0m\u001b[0m\n\u001b[0m\u001b[0;32m      3\u001b[0m \u001b[1;33m\u001b[0m\u001b[0m\n\u001b[0;32m      4\u001b[0m \u001b[1;32mfor\u001b[0m \u001b[0mi\u001b[0m \u001b[1;32min\u001b[0m \u001b[0mrange\u001b[0m\u001b[1;33m(\u001b[0m\u001b[0mepochs\u001b[0m\u001b[1;33m)\u001b[0m\u001b[1;33m:\u001b[0m\u001b[1;33m\u001b[0m\u001b[1;33m\u001b[0m\u001b[0m\n\u001b[0;32m      5\u001b[0m     \u001b[1;32mif\u001b[0m \u001b[0mi\u001b[0m\u001b[1;33m%\u001b[0m\u001b[1;36m5\u001b[0m \u001b[1;33m==\u001b[0m \u001b[1;36m0\u001b[0m\u001b[1;33m:\u001b[0m\u001b[1;33m\u001b[0m\u001b[1;33m\u001b[0m\u001b[0m\n",
      "\u001b[1;31mKeyError\u001b[0m: 'acc'"
     ]
    },
    {
     "data": {
      "text/plain": [
       "<Figure size 2000x800 with 0 Axes>"
      ]
     },
     "metadata": {},
     "output_type": "display_data"
    }
   ],
   "source": [
    "plt.figure(figsize=(20, 8))\n",
    "plt.plot(history.history['acc'])\n",
    "\n",
    "for i in range(epochs):\n",
    "    if i%5 == 0:\n",
    "        plt.annotate(np.round(history.history['acc'][i]*100,2),xy=(i,history.history['acc'][i]))\n",
    "\n",
    "plt.title('Model accuracy')\n",
    "plt.ylabel('Accuracy')\n",
    "plt.xlabel('Epoch')\n",
    "plt.show()"
   ]
  },
  {
   "cell_type": "code",
   "execution_count": null,
   "id": "9d8b9e45",
   "metadata": {},
   "outputs": [],
   "source": [
    "plt.figure(figsize=(20, 8))\n",
    "plt.plot(history.history['loss'])\n",
    "\n",
    "for i in range(epochs):\n",
    "    if i%5 == 0:\n",
    "        plt.annotate(np.round(history.history['loss'][i]*100,2),xy=(i,history.history['loss'][i]))\n",
    "\n",
    "plt.title('Model Loss')\n",
    "plt.ylabel('Loss')\n",
    "plt.xlabel('Epoch')\n",
    "plt.show()"
   ]
  },
  {
   "cell_type": "code",
   "execution_count": null,
   "id": "6e1048e9",
   "metadata": {},
   "outputs": [],
   "source": [
    "import h5py\n",
    "Classifier.save('Lenet.h5')"
   ]
  },
  {
   "cell_type": "code",
   "execution_count": null,
   "id": "c3af2295",
   "metadata": {},
   "outputs": [],
   "source": []
  },
  {
   "cell_type": "code",
   "execution_count": null,
   "id": "d55ecbdc",
   "metadata": {},
   "outputs": [],
   "source": []
  },
  {
   "cell_type": "code",
   "execution_count": null,
   "id": "66749b26",
   "metadata": {},
   "outputs": [],
   "source": []
  }
 ],
 "metadata": {
  "kernelspec": {
   "display_name": "Python 3 (ipykernel)",
   "language": "python",
   "name": "python3"
  },
  "language_info": {
   "codemirror_mode": {
    "name": "ipython",
    "version": 3
   },
   "file_extension": ".py",
   "mimetype": "text/x-python",
   "name": "python",
   "nbconvert_exporter": "python",
   "pygments_lexer": "ipython3",
   "version": "3.9.13"
  }
 },
 "nbformat": 4,
 "nbformat_minor": 5
}
